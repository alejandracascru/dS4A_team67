{
 "cells": [
  {
   "cell_type": "markdown",
   "metadata": {},
   "source": [
    "# JSON Partition\n",
    "\n",
    "La idea es disminuir el tamaño de del JSON que contiene el mapa por municipio, considerando que este archivo **pesa 19.4 MB**. \\\n",
    "Se me ocurren 3 estrategias:\n",
    " 1. Partir el mapa en 5 partes, una por cada región de colombia: Caribe, Pacifica, Amazonica, Orinoquia y Andina.\n",
    " 2. Disminuir la cantidad de coordenadas en un 50%, 67%, 75%, 80%, 90%, o 95%.\n",
    " 3. Combinación de 1 y 2.\n",
    "\n",
    "Otras estrategias:\n",
    " 4. No usar coordenadas cuya separación con la coordenada anterior sea inferior a una distancia euclidiana definida.\n",
    " \n",
    "Como dato de referencia, el mapa usado en el caso 4.1 de la semana 5 (us.json) **pesa 88 KB**."
   ]
  },
  {
   "cell_type": "code",
   "execution_count": null,
   "metadata": {},
   "outputs": [],
   "source": [
    "import json\n",
    "import pandas as pd\n",
    "from sqlalchemy import create_engine, text"
   ]
  },
  {
   "cell_type": "code",
   "execution_count": null,
   "metadata": {},
   "outputs": [],
   "source": [
    "#maximum number of rows to display\n",
    "pd.options.display.max_rows = 20\n",
    "\n",
    "DB_USERNAME = 'alagos'\n",
    "DB_PASSWORD = 'Team67!'\n",
    "DB_ENDPOINT = 'ds4a-demo-instance.cqjr4hyu9xaq.us-east-1.rds.amazonaws.com'\n",
    "DB_NAME = 'desertion_pj_team67'\n",
    "engine=create_engine(f'postgresql://{DB_USERNAME}:{DB_PASSWORD}@{DB_ENDPOINT}/{DB_NAME}', max_overflow=20)\n",
    "\n",
    "def runQuery(sql):\n",
    "    result = engine.connect().execution_options(isolation_level=\"AUTOCOMMIT\").execute((text(sql)))\n",
    "    return pd.DataFrame(result.fetchall(), columns=result.keys())"
   ]
  },
  {
   "cell_type": "code",
   "execution_count": null,
   "metadata": {},
   "outputs": [],
   "source": [
    "with open('/Users/alberto/Documents/GitHub/dS4A_team67/App67/data/MGN_MPIO_POLITICO.json') as geo:\n",
    "    munijson = json.loads(geo.read())"
   ]
  },
  {
   "cell_type": "code",
   "execution_count": null,
   "metadata": {},
   "outputs": [],
   "source": [
    "df = runQuery(\"\"\"\n",
    "select code_municip, region\n",
    "from master_table_by_municipio mtbm \n",
    "where mtbm.year_cohort = 2019 \n",
    "and mtbm.dane_alu_01 is not null \n",
    "and mtbm.dane_alu_11 is not null\n",
    "and mtbm.dane_alu_01 > 0;\"\"\")"
   ]
  },
  {
   "cell_type": "markdown",
   "metadata": {},
   "source": [
    "## Estrategia 1\n",
    "Particiones de JSON file"
   ]
  },
  {
   "cell_type": "code",
   "execution_count": null,
   "metadata": {},
   "outputs": [],
   "source": [
    "# Listas de codigos de municipio por region\n",
    "reg_cari = df[df['region'] == 'Caribe']['code_municip'].to_list()\n",
    "reg_paci = df[df['region'] == 'Pacifica']['code_municip'].to_list()\n",
    "reg_amaz = df[df['region'] == 'Amazonica']['code_municip'].to_list()\n",
    "reg_orin = df[df['region'] == 'Orinoquia']['code_municip'].to_list()\n",
    "reg_andi = df[df['region'] == 'Andina']['code_municip'].to_list()"
   ]
  },
  {
   "cell_type": "code",
   "execution_count": null,
   "metadata": {},
   "outputs": [],
   "source": [
    "new_file = {}\n",
    "new_file.update( {'type': munijson['type']} )\n",
    "features_dic = {}\n",
    "features_array = []"
   ]
  },
  {
   "cell_type": "code",
   "execution_count": null,
   "metadata": {},
   "outputs": [],
   "source": [
    "for i in range(len(munijson['features'])):\n",
    "    if munijson['features'][i]['properties']['MPIO_CCNCT'] in reg_andi:\n",
    "        features_array.append(munijson['features'][i])"
   ]
  },
  {
   "cell_type": "code",
   "execution_count": null,
   "metadata": {},
   "outputs": [],
   "source": [
    "features_dic.update( {'features': features_array} ) \n",
    "new_file.update( features_dic )"
   ]
  },
  {
   "cell_type": "code",
   "execution_count": null,
   "metadata": {},
   "outputs": [],
   "source": [
    "with open('andina.json', 'w', encoding='utf-8') as f:\n",
    "    json.dump(new_file, f, separators=(',', ':'))"
   ]
  },
  {
   "cell_type": "markdown",
   "metadata": {},
   "source": [
    "|**Región**|**Tamaño**|\n",
    "|:-----:|:-----:|\n",
    "|Caribe|3.4 MB|\n",
    "|Pacifica|3.2 MB|\n",
    "|Amazonica|2.9 MB|\n",
    "|Orinoquia|2.3 MB|\n",
    "|Andina|7.5 MB|"
   ]
  },
  {
   "cell_type": "markdown",
   "metadata": {},
   "source": [
    "## Estrategia 2\n",
    "Disminuir la cantidad de coordenadas en un 50%, 75% o en 90%."
   ]
  },
  {
   "cell_type": "code",
   "execution_count": null,
   "metadata": {
    "scrolled": true
   },
   "outputs": [],
   "source": [
    "step = 2 # 2: 50%; 3: 67%; 4: 75%; 5: 80%; 10: 90%; 20: 95%.\n",
    "features_array = []\n",
    "for i in range(len(munijson['features'])):\n",
    "    features_dic = {'type':'Feature','properties':munijson['features'][i]['properties']}\n",
    "    coordinates = [[]]\n",
    "    for j in range(0,len(munijson['features'][i]['geometry']['coordinates'][0]),step):\n",
    "        coordinates[0].append(munijson['features'][i]['geometry']['coordinates'][0][j])\n",
    "    geometry_dic = {'type':'Polygon'}\n",
    "    geometry_dic.update( {'coordinates':coordinates})\n",
    "    features_dic.update( {'geometry': geometry_dic} )\n",
    "    features_array.append(features_dic)"
   ]
  },
  {
   "cell_type": "code",
   "execution_count": null,
   "metadata": {},
   "outputs": [],
   "source": [
    "new_file = {}\n",
    "new_file.update( {'type': munijson['type']} )\n",
    "new_file.update( {'features':features_array} )\n",
    "with open('municipios50.json', 'w', encoding='utf-8') as f:\n",
    "    json.dump(new_file, f, separators=(',', ':'))"
   ]
  },
  {
   "cell_type": "markdown",
   "metadata": {},
   "source": [
    "|**Archivo**|**Tamaño**|\n",
    "|:-----:|:-----:|\n",
    "|original|19.4 MB|\n",
    "|municipios50|9.8 MB|\n",
    "|municipios67|6.7 MB|\n",
    "|municipios75|5.1 MB|\n",
    "|municipios80|4.2 MB|\n",
    "|municipios90|2.3 MB|\n",
    "|municipios95|1.4 MB|"
   ]
  },
  {
   "cell_type": "markdown",
   "metadata": {},
   "source": [
    "## Estrategia 3\n",
    "Combinación de 1 y 2."
   ]
  },
  {
   "cell_type": "code",
   "execution_count": null,
   "metadata": {
    "scrolled": true
   },
   "outputs": [],
   "source": [
    "step = 10 # 2: 50%; 3: 67%; 4: 75%; 5: 80%; 10: 90%; 20: 95%.\n",
    "features_array = []\n",
    "for i in range(len(munijson['features'])):\n",
    "    if munijson['features'][i]['properties']['MPIO_CCNCT'] in reg_paci:\n",
    "        features_dic = {'type':'Feature','properties':munijson['features'][i]['properties']}\n",
    "        coordinates = [[]]\n",
    "        for j in range(0,len(munijson['features'][i]['geometry']['coordinates'][0]),step):\n",
    "            coordinates[0].append(munijson['features'][i]['geometry']['coordinates'][0][j])\n",
    "        geometry_dic = {'type':'Polygon'}\n",
    "        geometry_dic.update( {'coordinates':coordinates})\n",
    "        features_dic.update( {'geometry': geometry_dic} )\n",
    "        features_array.append(features_dic)"
   ]
  },
  {
   "cell_type": "code",
   "execution_count": null,
   "metadata": {},
   "outputs": [],
   "source": [
    "new_file = {}\n",
    "new_file.update( {'type': munijson['type']} )\n",
    "new_file.update( {'features':features_array} )\n",
    "with open('pacifico90.json', 'w', encoding='utf-8') as f:\n",
    "    json.dump(new_file, f, separators=(',', ':'))"
   ]
  },
  {
   "cell_type": "markdown",
   "metadata": {},
   "source": [
    "|**Región**|**0%**|**50%**|**80%**|**90%**|\n",
    "|:-----:|:-----:|:-----:|:-----:|:-----:|\n",
    "|Caribe|3.4 MB|1.7 MB|727 KB|405 KB|\n",
    "|Pacífica|3.2 MB|1.6 MB|722 KB|418 KB|\n",
    "|Amazónica|2.9 MB|1.5 MB|594 KB|307 KB|\n",
    "|Orinoquía|2.3 MB|1.1 MB|470 KB|244 KB|\n",
    "|Andina|7.5 MB|3.9 MB|1.7 MB|947 KB|"
   ]
  },
  {
   "cell_type": "markdown",
   "metadata": {},
   "source": [
    "## Pruebas"
   ]
  },
  {
   "cell_type": "code",
   "execution_count": null,
   "metadata": {},
   "outputs": [],
   "source": [
    "import plotly.express as px\n",
    "import numpy as np"
   ]
  },
  {
   "cell_type": "code",
   "execution_count": null,
   "metadata": {},
   "outputs": [],
   "source": [
    "#maximum number of rows to display\n",
    "pd.options.display.max_rows = 20\n",
    "\n",
    "DB_USERNAME = 'alagos'\n",
    "DB_PASSWORD = 'Team67!'\n",
    "DB_ENDPOINT = 'ds4a-demo-instance.cqjr4hyu9xaq.us-east-1.rds.amazonaws.com'\n",
    "DB_NAME = 'desertion_pj_team67'\n",
    "engine=create_engine(f'postgresql://{DB_USERNAME}:{DB_PASSWORD}@{DB_ENDPOINT}/{DB_NAME}', max_overflow=20)\n",
    "\n",
    "def runQuery(sql):\n",
    "    result = engine.connect().execution_options(isolation_level=\"AUTOCOMMIT\").execute((text(sql)))\n",
    "    return pd.DataFrame(result.fetchall(), columns=result.keys())"
   ]
  },
  {
   "cell_type": "code",
   "execution_count": null,
   "metadata": {},
   "outputs": [],
   "source": [
    "df_drops = runQuery(\"\"\"\n",
    "select code_municip, mtbm.dane_alu_11 as nodropouts\n",
    "from master_table_by_municipio mtbm \n",
    "where mtbm.year_cohort = 2019 \n",
    "and mtbm.dane_alu_01 is not null \n",
    "and mtbm.dane_alu_11 is not null\n",
    "and mtbm.dane_alu_01 > 0;\"\"\")"
   ]
  },
  {
   "cell_type": "code",
   "execution_count": null,
   "metadata": {},
   "outputs": [],
   "source": [
    "df_drops['nodropouts'] = df_drops['nodropouts'].astype(np.float64)"
   ]
  },
  {
   "cell_type": "markdown",
   "metadata": {},
   "source": [
    "1. Mapa de todos los municipios: original (19.4 MB) vs 95% (1.4 MB)"
   ]
  },
  {
   "cell_type": "markdown",
   "metadata": {},
   "source": [
    "Mapa con archivo original (19.4 MB)"
   ]
  },
  {
   "cell_type": "code",
   "execution_count": null,
   "metadata": {},
   "outputs": [],
   "source": [
    "\"white-bg\",\"open-street-map\", \"carto-positron\", \"carto-darkmatter\", \n",
    "\"stamen-terrain\", \"stamen-toner\" or \"stamen-watercolor\",\"basic\", \n",
    "\"streets\", \"outdoors\", \"light\", \"dark\", \"satellite\", or \"satellite-streets\" "
   ]
  },
  {
   "cell_type": "code",
   "execution_count": null,
   "metadata": {},
   "outputs": [],
   "source": [
    "px.choropleth_mapbox(df_drops,                   #Data\n",
    "        locations='code_municip',                #Column containing the identifiers used in the GeoJSON file \n",
    "        featureidkey=\"properties.MPIO_CCNCT\",\n",
    "        color='nodropouts',                      #Column giving the color intensity of the region\n",
    "        geojson=munijson,                        #The GeoJSON file\n",
    "        zoom=4,                                  #Zoom\n",
    "        #mapbox_style=\"carto-positron\",           #Mapbox style, for different maps you need a Mapbox account and a token\n",
    "        #mapbox_style=\"white-bg\",\n",
    "        mapbox_style=\"satellite-streets\",\n",
    "        center={\"lat\": 4.0902, \"lon\": -75.7129}, #Center\n",
    "        color_continuous_scale=\"Viridis\",        #Color Scheme\n",
    "        opacity=0.5                              #Opacity of the map\n",
    "        )"
   ]
  },
  {
   "cell_type": "markdown",
   "metadata": {},
   "source": [
    "Mapa con archivo reducido al 95% (1.4 MB)"
   ]
  },
  {
   "cell_type": "code",
   "execution_count": null,
   "metadata": {},
   "outputs": [],
   "source": [
    "with open('/Users/alberto/Documents/GitHub/dS4A_team67/notebooks/municipios95.json') as geo:\n",
    "    muni95 = json.loads(geo.read())"
   ]
  },
  {
   "cell_type": "code",
   "execution_count": null,
   "metadata": {},
   "outputs": [],
   "source": [
    "ef_map =px.choropleth_mapbox(df_drops,                         #Data\n",
    "        locations='code_municip',                         #Column containing the identifiers used in the GeoJSON file \n",
    "        featureidkey=\"properties.MPIO_CCNCT\",\n",
    "        color='nodropouts',                      #Column giving the color intensity of the region\n",
    "        geojson=muni95,                          #The GeoJSON file\n",
    "        zoom=4,                                   #Zoom\n",
    "        #mapbox_style=\"carto-positron\",            #Mapbox style, for different maps you need a Mapbox account and a token\n",
    "        mapbox_style=\"white-bg\",\n",
    "        center={\"lat\": 4.0902, \"lon\": -75.7129}, #Center\n",
    "        color_continuous_scale=\"Viridis\",         #Color Scheme\n",
    "        opacity=0.5                              #Opacity of the map\n",
    "        )\n",
    "#ef_map.update_geos(visible=False)\n",
    "ef_map.show()\n"
   ]
  },
  {
   "cell_type": "code",
   "execution_count": null,
   "metadata": {},
   "outputs": [],
   "source": [
    "with open('/Users/alberto/Documents/GitHub/dS4A_team67/notebooks/andina.json') as geo:\n",
    "    andina = json.loads(geo.read())"
   ]
  },
  {
   "cell_type": "code",
   "execution_count": null,
   "metadata": {},
   "outputs": [],
   "source": [
    "px.choropleth_mapbox(df_drops,                         #Data\n",
    "        locations='code_municip',                         #Column containing the identifiers used in the GeoJSON file \n",
    "        featureidkey=\"properties.MPIO_CCNCT\",\n",
    "        color='nodropouts',                      #Column giving the color intensity of the region\n",
    "        geojson=andina,                          #The GeoJSON file\n",
    "        zoom=4,                                   #Zoom\n",
    "        mapbox_style=\"carto-positron\",            #Mapbox style, for different maps you need a Mapbox account and a token\n",
    "        center={\"lat\": 4.0902, \"lon\": -75.7129}, #Center\n",
    "        color_continuous_scale=\"Viridis\",         #Color Scheme\n",
    "        opacity=0.5                              #Opacity of the map\n",
    "        )\n"
   ]
  },
  {
   "cell_type": "code",
   "execution_count": null,
   "metadata": {},
   "outputs": [],
   "source": []
  },
  {
   "cell_type": "code",
   "execution_count": null,
   "metadata": {},
   "outputs": [],
   "source": [
    "with open('/Users/alberto/Documents/GitHub/dS4A_team67/notebooks/andina90.json') as geo:\n",
    "    andi90 = json.loads(geo.read())"
   ]
  },
  {
   "cell_type": "code",
   "execution_count": null,
   "metadata": {},
   "outputs": [],
   "source": [
    "px.choropleth_mapbox(df_drops,                         #Data\n",
    "        locations='code_municip',                         #Column containing the identifiers used in the GeoJSON file \n",
    "        featureidkey=\"properties.MPIO_CCNCT\",\n",
    "        color='nodropouts',                      #Column giving the color intensity of the region\n",
    "        geojson=andi90,                          #The GeoJSON file\n",
    "        zoom=4,                                   #Zoom\n",
    "        mapbox_style=\"carto-positron\",            #Mapbox style, for different maps you need a Mapbox account and a token\n",
    "        center={\"lat\": 4.0902, \"lon\": -75.7129}, #Center\n",
    "        color_continuous_scale=\"Viridis\",         #Color Scheme\n",
    "        opacity=0.5                              #Opacity of the map\n",
    "        )\n"
   ]
  },
  {
   "cell_type": "code",
   "execution_count": null,
   "metadata": {},
   "outputs": [],
   "source": []
  }
 ],
 "metadata": {
  "kernelspec": {
   "display_name": "Python 3",
   "language": "python",
   "name": "python3"
  },
  "language_info": {
   "codemirror_mode": {
    "name": "ipython",
    "version": 3
   },
   "file_extension": ".py",
   "mimetype": "text/x-python",
   "name": "python",
   "nbconvert_exporter": "python",
   "pygments_lexer": "ipython3",
   "version": "3.7.6"
  }
 },
 "nbformat": 4,
 "nbformat_minor": 4
}
