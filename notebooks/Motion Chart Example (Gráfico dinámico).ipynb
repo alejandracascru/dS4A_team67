{
 "cells": [
  {
   "cell_type": "code",
   "execution_count": 13,
   "metadata": {},
   "outputs": [],
   "source": [
    "#!pip install motionchart\n",
    "#!pip install pyperclip\n",
    "\n",
    "import pandas as pd\n",
    "import numpy as np\n",
    "import requests\n",
    "from io import StringIO\n",
    "import pandasql as ps\n",
    "import time\n",
    "from sqlalchemy import create_engine, text\n",
    "from motionchart.motionchart import MotionChart, MotionChartDemo"
   ]
  },
  {
   "cell_type": "code",
   "execution_count": 14,
   "metadata": {},
   "outputs": [],
   "source": [
    "DB_USERNAME = 'damjimenezgu'\n",
    "DB_PASSWORD = 'Analista1!' \n",
    "DB_ENDPOINT = 'ds4a-demo-instance.cqjr4hyu9xaq.us-east-1.rds.amazonaws.com' \n",
    "DB_NAME = 'desertion_pj_team67' \n",
    "\n",
    "engine=create_engine(f'postgresql://{DB_USERNAME}:{DB_PASSWORD}@{DB_ENDPOINT}/{DB_NAME}', max_overflow=20)\n",
    "\n",
    "def runQuery(sql):\n",
    "    result = engine.connect().execution_options(isolation_level=\"AUTOCOMMIT\").execute((text(sql)))\n",
    "    return pd.DataFrame(result.fetchall(), columns=result.keys())"
   ]
  },
  {
   "cell_type": "code",
   "execution_count": 37,
   "metadata": {},
   "outputs": [],
   "source": [
    "mun=runQuery(\"\"\"select * from master_table_by_municipio;\"\"\")"
   ]
  },
  {
   "cell_type": "code",
   "execution_count": 40,
   "metadata": {},
   "outputs": [],
   "source": [
    "mantener=['year_cohort','desertion_perc','name_municip','region','desertion_no','me_cobertura_neta','dane_alu_18_p','icbf_num_afi_reg_contr_18_10mil','icbf_tasa_fecun_nin_10_14','dane_alu_16_p','po_pob_cabecera_10mil','sa_punt_matematicas','me_tamano_promedio_de_grupo','dane_alu_19_p','dane_alu_12_p','dane_doc_11_p','dane_doc_08_p']\n",
    "mun_filter=mun[mantener].copy()\n",
    "mun_filter['equal_size']=0.1\n",
    "mChart = MotionChart(df = mun_filter\n",
    "                     ,key=\"year_cohort\"\n",
    "                     ,x='sa_punt_matematicas'\n",
    "                     ,y='desertion_perc'\n",
    "                     ,category = 'name_municip'\n",
    "                     ,size='equal_size'\n",
    "                     ,color='region'\n",
    "                     ,xscale='linear'\n",
    "                     ,yscale='linear'\n",
    "                     ,title = 'Ejemplo de Motion Chart'\n",
    "                     ,play = 'false'\n",
    "                     ,loop = 'false'\n",
    ")\n"
   ]
  },
  {
   "cell_type": "code",
   "execution_count": 41,
   "metadata": {},
   "outputs": [],
   "source": [
    "#mChart.to_notebook()\n",
    "mChart.to_browser()\n",
    "# INFORMACION SOBRE GRAFICO: https://github.com/hmelberg/motionchart"
   ]
  }
 ],
 "metadata": {
  "kernelspec": {
   "display_name": "Python 3",
   "language": "python",
   "name": "python3"
  },
  "language_info": {
   "codemirror_mode": {
    "name": "ipython",
    "version": 3
   },
   "file_extension": ".py",
   "mimetype": "text/x-python",
   "name": "python",
   "nbconvert_exporter": "python",
   "pygments_lexer": "ipython3",
   "version": "3.7.7"
  }
 },
 "nbformat": 4,
 "nbformat_minor": 4
}
