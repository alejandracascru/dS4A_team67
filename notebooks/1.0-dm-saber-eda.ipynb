{
 "cells": [
  {
   "cell_type": "code",
   "execution_count": 2,
   "metadata": {},
   "outputs": [],
   "source": [
    "import pandas as pd\n",
    "import io\n",
    "import requests\n",
    "import seaborn as sns\n",
    "import matplotlib.pyplot as plt"
   ]
  },
  {
   "cell_type": "markdown",
   "metadata": {},
   "source": [
    "## Read the Data from the datos.gov.co"
   ]
  },
  {
   "cell_type": "code",
   "execution_count": 3,
   "metadata": {},
   "outputs": [],
   "source": [
    "#There is 1 file per semester, since COPACABANA is a small town we want to have at least 2 years of data\n",
    "#for now in this notebook we just read 2019-2, also the 2nd semester correspond to calendar A Schools\n",
    "url=\"https://www.datos.gov.co/api/views/ynam-yc42/rows.csv?accessType=DOWNLOAD\"\n",
    "s=requests.get(url).content\n",
    "#saber_df_2019_2 = pd.read_csv(io.StringIO(s.decode('utf-8')), engine='python')"
   ]
  },
  {
   "cell_type": "code",
   "execution_count": 4,
   "metadata": {},
   "outputs": [
    {
     "name": "stderr",
     "output_type": "stream",
     "text": [
      "/Users/diegomora/opt/anaconda3/lib/python3.7/site-packages/IPython/core/interactiveshell.py:3058: DtypeWarning: Columns (76,78) have mixed types. Specify dtype option on import or set low_memory=False.\n",
      "  interactivity=interactivity, compiler=compiler, result=result)\n"
     ]
    }
   ],
   "source": [
    "saber_df_2019_2 = pd.read_csv(io.StringIO(s.decode('utf-8')))"
   ]
  },
  {
   "cell_type": "code",
   "execution_count": 5,
   "metadata": {},
   "outputs": [
    {
     "data": {
      "text/html": [
       "<div>\n",
       "<style scoped>\n",
       "    .dataframe tbody tr th:only-of-type {\n",
       "        vertical-align: middle;\n",
       "    }\n",
       "\n",
       "    .dataframe tbody tr th {\n",
       "        vertical-align: top;\n",
       "    }\n",
       "\n",
       "    .dataframe thead th {\n",
       "        text-align: right;\n",
       "    }\n",
       "</style>\n",
       "<table border=\"1\" class=\"dataframe\">\n",
       "  <thead>\n",
       "    <tr style=\"text-align: right;\">\n",
       "      <th></th>\n",
       "      <th>ESTU_TIPODOCUMENTO</th>\n",
       "      <th>ESTU_NACIONALIDAD</th>\n",
       "      <th>ESTU_GENERO</th>\n",
       "      <th>ESTU_FECHANACIMIENTO</th>\n",
       "      <th>PERIODO</th>\n",
       "      <th>ESTU_CONSECUTIVO</th>\n",
       "      <th>ESTU_ESTUDIANTE</th>\n",
       "      <th>ESTU_TIENEETNIA</th>\n",
       "      <th>ESTU_PAIS_RESIDE</th>\n",
       "      <th>ESTU_ETNIA</th>\n",
       "      <th>...</th>\n",
       "      <th>PUNT_INGLES</th>\n",
       "      <th>PERCENTIL_INGLES</th>\n",
       "      <th>DESEMP_INGLES</th>\n",
       "      <th>PUNT_GLOBAL</th>\n",
       "      <th>PERCENTIL_GLOBAL</th>\n",
       "      <th>ESTU_INSE_INDIVIDUAL</th>\n",
       "      <th>ESTU_NSE_INDIVIDUAL</th>\n",
       "      <th>ESTU_NSE_ESTABLECIMIENTO</th>\n",
       "      <th>ESTU_ESTADOINVESTIGACION</th>\n",
       "      <th>ESTU_GENERACION-E</th>\n",
       "    </tr>\n",
       "  </thead>\n",
       "  <tbody>\n",
       "    <tr>\n",
       "      <td>0</td>\n",
       "      <td>TI</td>\n",
       "      <td>COLOMBIA</td>\n",
       "      <td>M</td>\n",
       "      <td>02/18/2002 12:00:00 AM</td>\n",
       "      <td>20194</td>\n",
       "      <td>SB11201940031558</td>\n",
       "      <td>ESTUDIANTE</td>\n",
       "      <td>No</td>\n",
       "      <td>COLOMBIA</td>\n",
       "      <td>-</td>\n",
       "      <td>...</td>\n",
       "      <td>54.0</td>\n",
       "      <td>67</td>\n",
       "      <td>A1</td>\n",
       "      <td>208</td>\n",
       "      <td>25</td>\n",
       "      <td>50.9421557404314</td>\n",
       "      <td>2</td>\n",
       "      <td>2.0</td>\n",
       "      <td>PUBLICAR</td>\n",
       "      <td>NO</td>\n",
       "    </tr>\n",
       "    <tr>\n",
       "      <td>1</td>\n",
       "      <td>TI</td>\n",
       "      <td>COLOMBIA</td>\n",
       "      <td>M</td>\n",
       "      <td>06/28/2003 12:00:00 AM</td>\n",
       "      <td>20194</td>\n",
       "      <td>SB11201940303339</td>\n",
       "      <td>ESTUDIANTE</td>\n",
       "      <td>No</td>\n",
       "      <td>COLOMBIA</td>\n",
       "      <td>-</td>\n",
       "      <td>...</td>\n",
       "      <td>63.0</td>\n",
       "      <td>88</td>\n",
       "      <td>A2</td>\n",
       "      <td>299</td>\n",
       "      <td>83</td>\n",
       "      <td>59.767864431576</td>\n",
       "      <td>3</td>\n",
       "      <td>4.0</td>\n",
       "      <td>PUBLICAR</td>\n",
       "      <td>NO</td>\n",
       "    </tr>\n",
       "    <tr>\n",
       "      <td>2</td>\n",
       "      <td>TI</td>\n",
       "      <td>COLOMBIA</td>\n",
       "      <td>M</td>\n",
       "      <td>06/02/2001 12:00:00 AM</td>\n",
       "      <td>20194</td>\n",
       "      <td>SB11201940255017</td>\n",
       "      <td>ESTUDIANTE</td>\n",
       "      <td>No</td>\n",
       "      <td>COLOMBIA</td>\n",
       "      <td>-</td>\n",
       "      <td>...</td>\n",
       "      <td>64.0</td>\n",
       "      <td>89</td>\n",
       "      <td>A2</td>\n",
       "      <td>299</td>\n",
       "      <td>84</td>\n",
       "      <td>50.7642383644749</td>\n",
       "      <td>2</td>\n",
       "      <td>3.0</td>\n",
       "      <td>PUBLICAR</td>\n",
       "      <td>GENERACION E - GRATUIDAD</td>\n",
       "    </tr>\n",
       "    <tr>\n",
       "      <td>3</td>\n",
       "      <td>TI</td>\n",
       "      <td>COLOMBIA</td>\n",
       "      <td>M</td>\n",
       "      <td>04/26/2002 12:00:00 AM</td>\n",
       "      <td>20194</td>\n",
       "      <td>SB11201940154799</td>\n",
       "      <td>ESTUDIANTE</td>\n",
       "      <td>Si</td>\n",
       "      <td>COLOMBIA</td>\n",
       "      <td>Ninguno</td>\n",
       "      <td>...</td>\n",
       "      <td>53.0</td>\n",
       "      <td>67</td>\n",
       "      <td>A1</td>\n",
       "      <td>309</td>\n",
       "      <td>88</td>\n",
       "      <td>45.7791353123516</td>\n",
       "      <td>2</td>\n",
       "      <td>3.0</td>\n",
       "      <td>PUBLICAR</td>\n",
       "      <td>GENERACION E - GRATUIDAD</td>\n",
       "    </tr>\n",
       "    <tr>\n",
       "      <td>4</td>\n",
       "      <td>TI</td>\n",
       "      <td>COLOMBIA</td>\n",
       "      <td>M</td>\n",
       "      <td>02/05/2002 12:00:00 AM</td>\n",
       "      <td>20194</td>\n",
       "      <td>SB11201940280831</td>\n",
       "      <td>ESTUDIANTE</td>\n",
       "      <td>No</td>\n",
       "      <td>COLOMBIA</td>\n",
       "      <td>-</td>\n",
       "      <td>...</td>\n",
       "      <td>52.0</td>\n",
       "      <td>63</td>\n",
       "      <td>A1</td>\n",
       "      <td>288</td>\n",
       "      <td>78</td>\n",
       "      <td>52.9109464277177</td>\n",
       "      <td>3</td>\n",
       "      <td>3.0</td>\n",
       "      <td>PUBLICAR</td>\n",
       "      <td>NO</td>\n",
       "    </tr>\n",
       "    <tr>\n",
       "      <td>...</td>\n",
       "      <td>...</td>\n",
       "      <td>...</td>\n",
       "      <td>...</td>\n",
       "      <td>...</td>\n",
       "      <td>...</td>\n",
       "      <td>...</td>\n",
       "      <td>...</td>\n",
       "      <td>...</td>\n",
       "      <td>...</td>\n",
       "      <td>...</td>\n",
       "      <td>...</td>\n",
       "      <td>...</td>\n",
       "      <td>...</td>\n",
       "      <td>...</td>\n",
       "      <td>...</td>\n",
       "      <td>...</td>\n",
       "      <td>...</td>\n",
       "      <td>...</td>\n",
       "      <td>...</td>\n",
       "      <td>...</td>\n",
       "      <td>...</td>\n",
       "    </tr>\n",
       "    <tr>\n",
       "      <td>546207</td>\n",
       "      <td>CC</td>\n",
       "      <td>COLOMBIA</td>\n",
       "      <td>M</td>\n",
       "      <td>02/25/1999 12:00:00 AM</td>\n",
       "      <td>20194</td>\n",
       "      <td>SB11201940195862</td>\n",
       "      <td>ESTUDIANTE</td>\n",
       "      <td>No</td>\n",
       "      <td>COLOMBIA</td>\n",
       "      <td>-</td>\n",
       "      <td>...</td>\n",
       "      <td>58.0</td>\n",
       "      <td>79</td>\n",
       "      <td>A2</td>\n",
       "      <td>360</td>\n",
       "      <td>99</td>\n",
       "      <td>47.5807720132296</td>\n",
       "      <td>2</td>\n",
       "      <td>2.0</td>\n",
       "      <td>PUBLICAR</td>\n",
       "      <td>GENERACION E - EXCELENCIA NACIONAL</td>\n",
       "    </tr>\n",
       "    <tr>\n",
       "      <td>546208</td>\n",
       "      <td>TI</td>\n",
       "      <td>COLOMBIA</td>\n",
       "      <td>M</td>\n",
       "      <td>10/14/2002 12:00:00 AM</td>\n",
       "      <td>20194</td>\n",
       "      <td>SB11201940253002</td>\n",
       "      <td>ESTUDIANTE</td>\n",
       "      <td>No</td>\n",
       "      <td>COLOMBIA</td>\n",
       "      <td>-</td>\n",
       "      <td>...</td>\n",
       "      <td>74.0</td>\n",
       "      <td>97</td>\n",
       "      <td>B1</td>\n",
       "      <td>360</td>\n",
       "      <td>99</td>\n",
       "      <td>57.406418472062</td>\n",
       "      <td>3</td>\n",
       "      <td>4.0</td>\n",
       "      <td>PUBLICAR</td>\n",
       "      <td>GENERACION E - EXCELENCIA NACIONAL</td>\n",
       "    </tr>\n",
       "    <tr>\n",
       "      <td>546209</td>\n",
       "      <td>TI</td>\n",
       "      <td>COLOMBIA</td>\n",
       "      <td>M</td>\n",
       "      <td>11/22/2002 12:00:00 AM</td>\n",
       "      <td>20194</td>\n",
       "      <td>SB11201940364767</td>\n",
       "      <td>ESTUDIANTE</td>\n",
       "      <td>No</td>\n",
       "      <td>COLOMBIA</td>\n",
       "      <td>-</td>\n",
       "      <td>...</td>\n",
       "      <td>72.0</td>\n",
       "      <td>96</td>\n",
       "      <td>B1</td>\n",
       "      <td>377</td>\n",
       "      <td>100</td>\n",
       "      <td>71.2254308010465</td>\n",
       "      <td>4</td>\n",
       "      <td>3.0</td>\n",
       "      <td>PUBLICAR</td>\n",
       "      <td>GENERACION E - EXCELENCIA DEPARTAMENTAL</td>\n",
       "    </tr>\n",
       "    <tr>\n",
       "      <td>546210</td>\n",
       "      <td>TI</td>\n",
       "      <td>COLOMBIA</td>\n",
       "      <td>M</td>\n",
       "      <td>11/10/2002 12:00:00 AM</td>\n",
       "      <td>20194</td>\n",
       "      <td>SB11201940210026</td>\n",
       "      <td>ESTUDIANTE</td>\n",
       "      <td>No</td>\n",
       "      <td>COLOMBIA</td>\n",
       "      <td>-</td>\n",
       "      <td>...</td>\n",
       "      <td>46.0</td>\n",
       "      <td>45</td>\n",
       "      <td>A-</td>\n",
       "      <td>278</td>\n",
       "      <td>73</td>\n",
       "      <td>38.1334451267846</td>\n",
       "      <td>1</td>\n",
       "      <td>2.0</td>\n",
       "      <td>PUBLICAR</td>\n",
       "      <td>GENERACION E - GRATUIDAD</td>\n",
       "    </tr>\n",
       "    <tr>\n",
       "      <td>546211</td>\n",
       "      <td>TI</td>\n",
       "      <td>COLOMBIA</td>\n",
       "      <td>M</td>\n",
       "      <td>06/02/2002 12:00:00 AM</td>\n",
       "      <td>20194</td>\n",
       "      <td>SB11201940074679</td>\n",
       "      <td>ESTUDIANTE</td>\n",
       "      <td>No</td>\n",
       "      <td>COLOMBIA</td>\n",
       "      <td>-</td>\n",
       "      <td>...</td>\n",
       "      <td>74.0</td>\n",
       "      <td>97</td>\n",
       "      <td>B1</td>\n",
       "      <td>365</td>\n",
       "      <td>99</td>\n",
       "      <td>49.7833058735661</td>\n",
       "      <td>2</td>\n",
       "      <td>3.0</td>\n",
       "      <td>PUBLICAR</td>\n",
       "      <td>GENERACION E - EXCELENCIA NACIONAL</td>\n",
       "    </tr>\n",
       "  </tbody>\n",
       "</table>\n",
       "<p>546212 rows × 82 columns</p>\n",
       "</div>"
      ],
      "text/plain": [
       "       ESTU_TIPODOCUMENTO ESTU_NACIONALIDAD ESTU_GENERO  \\\n",
       "0                      TI          COLOMBIA           M   \n",
       "1                      TI          COLOMBIA           M   \n",
       "2                      TI          COLOMBIA           M   \n",
       "3                      TI          COLOMBIA           M   \n",
       "4                      TI          COLOMBIA           M   \n",
       "...                   ...               ...         ...   \n",
       "546207                 CC          COLOMBIA           M   \n",
       "546208                 TI          COLOMBIA           M   \n",
       "546209                 TI          COLOMBIA           M   \n",
       "546210                 TI          COLOMBIA           M   \n",
       "546211                 TI          COLOMBIA           M   \n",
       "\n",
       "          ESTU_FECHANACIMIENTO  PERIODO  ESTU_CONSECUTIVO ESTU_ESTUDIANTE  \\\n",
       "0       02/18/2002 12:00:00 AM    20194  SB11201940031558      ESTUDIANTE   \n",
       "1       06/28/2003 12:00:00 AM    20194  SB11201940303339      ESTUDIANTE   \n",
       "2       06/02/2001 12:00:00 AM    20194  SB11201940255017      ESTUDIANTE   \n",
       "3       04/26/2002 12:00:00 AM    20194  SB11201940154799      ESTUDIANTE   \n",
       "4       02/05/2002 12:00:00 AM    20194  SB11201940280831      ESTUDIANTE   \n",
       "...                        ...      ...               ...             ...   \n",
       "546207  02/25/1999 12:00:00 AM    20194  SB11201940195862      ESTUDIANTE   \n",
       "546208  10/14/2002 12:00:00 AM    20194  SB11201940253002      ESTUDIANTE   \n",
       "546209  11/22/2002 12:00:00 AM    20194  SB11201940364767      ESTUDIANTE   \n",
       "546210  11/10/2002 12:00:00 AM    20194  SB11201940210026      ESTUDIANTE   \n",
       "546211  06/02/2002 12:00:00 AM    20194  SB11201940074679      ESTUDIANTE   \n",
       "\n",
       "       ESTU_TIENEETNIA ESTU_PAIS_RESIDE ESTU_ETNIA  ... PUNT_INGLES  \\\n",
       "0                   No         COLOMBIA          -  ...        54.0   \n",
       "1                   No         COLOMBIA          -  ...        63.0   \n",
       "2                   No         COLOMBIA          -  ...        64.0   \n",
       "3                   Si         COLOMBIA    Ninguno  ...        53.0   \n",
       "4                   No         COLOMBIA          -  ...        52.0   \n",
       "...                ...              ...        ...  ...         ...   \n",
       "546207              No         COLOMBIA          -  ...        58.0   \n",
       "546208              No         COLOMBIA          -  ...        74.0   \n",
       "546209              No         COLOMBIA          -  ...        72.0   \n",
       "546210              No         COLOMBIA          -  ...        46.0   \n",
       "546211              No         COLOMBIA          -  ...        74.0   \n",
       "\n",
       "       PERCENTIL_INGLES DESEMP_INGLES PUNT_GLOBAL PERCENTIL_GLOBAL  \\\n",
       "0                    67            A1         208               25   \n",
       "1                    88            A2         299               83   \n",
       "2                    89            A2         299               84   \n",
       "3                    67            A1         309               88   \n",
       "4                    63            A1         288               78   \n",
       "...                 ...           ...         ...              ...   \n",
       "546207               79            A2         360               99   \n",
       "546208               97            B1         360               99   \n",
       "546209               96            B1         377              100   \n",
       "546210               45            A-         278               73   \n",
       "546211               97            B1         365               99   \n",
       "\n",
       "       ESTU_INSE_INDIVIDUAL ESTU_NSE_INDIVIDUAL ESTU_NSE_ESTABLECIMIENTO  \\\n",
       "0          50.9421557404314                   2                      2.0   \n",
       "1           59.767864431576                   3                      4.0   \n",
       "2          50.7642383644749                   2                      3.0   \n",
       "3          45.7791353123516                   2                      3.0   \n",
       "4          52.9109464277177                   3                      3.0   \n",
       "...                     ...                 ...                      ...   \n",
       "546207     47.5807720132296                   2                      2.0   \n",
       "546208      57.406418472062                   3                      4.0   \n",
       "546209     71.2254308010465                   4                      3.0   \n",
       "546210     38.1334451267846                   1                      2.0   \n",
       "546211     49.7833058735661                   2                      3.0   \n",
       "\n",
       "       ESTU_ESTADOINVESTIGACION                        ESTU_GENERACION-E  \n",
       "0                      PUBLICAR                                       NO  \n",
       "1                      PUBLICAR                                       NO  \n",
       "2                      PUBLICAR                 GENERACION E - GRATUIDAD  \n",
       "3                      PUBLICAR                 GENERACION E - GRATUIDAD  \n",
       "4                      PUBLICAR                                       NO  \n",
       "...                         ...                                      ...  \n",
       "546207                 PUBLICAR       GENERACION E - EXCELENCIA NACIONAL  \n",
       "546208                 PUBLICAR       GENERACION E - EXCELENCIA NACIONAL  \n",
       "546209                 PUBLICAR  GENERACION E - EXCELENCIA DEPARTAMENTAL  \n",
       "546210                 PUBLICAR                 GENERACION E - GRATUIDAD  \n",
       "546211                 PUBLICAR       GENERACION E - EXCELENCIA NACIONAL  \n",
       "\n",
       "[546212 rows x 82 columns]"
      ]
     },
     "execution_count": 5,
     "metadata": {},
     "output_type": "execute_result"
    }
   ],
   "source": [
    "saber_df_2019_2"
   ]
  },
  {
   "cell_type": "markdown",
   "metadata": {},
   "source": [
    "#### This file has more than 500K rows, we just need the copacabana data"
   ]
  },
  {
   "cell_type": "code",
   "execution_count": 6,
   "metadata": {},
   "outputs": [
    {
     "data": {
      "text/plain": [
       "Index(['ESTU_TIPODOCUMENTO', 'ESTU_NACIONALIDAD', 'ESTU_GENERO',\n",
       "       'ESTU_FECHANACIMIENTO', 'PERIODO', 'ESTU_CONSECUTIVO',\n",
       "       'ESTU_ESTUDIANTE', 'ESTU_TIENEETNIA', 'ESTU_PAIS_RESIDE', 'ESTU_ETNIA',\n",
       "       'ESTU_DEPTO_RESIDE', 'ESTU_COD_RESIDE_DEPTO', 'ESTU_MCPIO_RESIDE',\n",
       "       'ESTU_COD_RESIDE_MCPIO', 'FAMI_ESTRATOVIVIENDA', 'FAMI_PERSONASHOGAR',\n",
       "       'FAMI_CUARTOSHOGAR', 'FAMI_EDUCACIONPADRE', 'FAMI_EDUCACIONMADRE',\n",
       "       'FAMI_TRABAJOLABORPADRE', 'FAMI_TRABAJOLABORMADRE',\n",
       "       'FAMI_TIENEINTERNET', 'FAMI_TIENESERVICIOTV', 'FAMI_TIENECOMPUTADOR',\n",
       "       'FAMI_TIENELAVADORA', 'FAMI_TIENEHORNOMICROOGAS', 'FAMI_TIENEAUTOMOVIL',\n",
       "       'FAMI_TIENEMOTOCICLETA', 'FAMI_TIENECONSOLAVIDEOJUEGOS',\n",
       "       'FAMI_NUMLIBROS', 'FAMI_COMELECHEDERIVADOS',\n",
       "       'FAMI_COMECARNEPESCADOHUEVO', 'FAMI_COMECEREALFRUTOSLEGUMBRE',\n",
       "       'FAMI_SITUACIONECONOMICA', 'ESTU_DEDICACIONLECTURADIARIA',\n",
       "       'ESTU_DEDICACIONINTERNET', 'ESTU_HORASSEMANATRABAJA',\n",
       "       'ESTU_TIPOREMUNERACION', 'COLE_CODIGO_ICFES',\n",
       "       'COLE_COD_DANE_ESTABLECIMIENTO', 'COLE_NOMBRE_ESTABLECIMIENTO',\n",
       "       'COLE_GENERO', 'COLE_NATURALEZA', 'COLE_CALENDARIO', 'COLE_BILINGUE',\n",
       "       'COLE_CARACTER', 'COLE_COD_DANE_SEDE', 'COLE_NOMBRE_SEDE',\n",
       "       'COLE_SEDE_PRINCIPAL', 'COLE_AREA_UBICACION', 'COLE_JORNADA',\n",
       "       'COLE_COD_MCPIO_UBICACION', 'COLE_MCPIO_UBICACION',\n",
       "       'COLE_COD_DEPTO_UBICACION', 'COLE_DEPTO_UBICACION',\n",
       "       'ESTU_PRIVADO_LIBERTAD', 'ESTU_COD_MCPIO_PRESENTACION',\n",
       "       'ESTU_MCPIO_PRESENTACION', 'ESTU_DEPTO_PRESENTACION',\n",
       "       'ESTU_COD_DEPTO_PRESENTACION', 'PUNT_LECTURA_CRITICA',\n",
       "       'PERCENTIL_LECTURA_CRITICA', 'DESEMP_LECTURA_CRITICA',\n",
       "       'PUNT_MATEMATICAS', 'PERCENTIL_MATEMATICAS', 'DESEMP_MATEMATICAS',\n",
       "       'PUNT_C_NATURALES', 'PERCENTIL_C_NATURALES', 'DESEMP_C_NATURALES',\n",
       "       'PUNT_SOCIALES_CIUDADANAS', 'PERCENTIL_SOCIALES_CIUDADANAS',\n",
       "       'DESEMP_SOCIALES_CIUDADANAS', 'PUNT_INGLES', 'PERCENTIL_INGLES',\n",
       "       'DESEMP_INGLES', 'PUNT_GLOBAL', 'PERCENTIL_GLOBAL',\n",
       "       'ESTU_INSE_INDIVIDUAL', 'ESTU_NSE_INDIVIDUAL',\n",
       "       'ESTU_NSE_ESTABLECIMIENTO', 'ESTU_ESTADOINVESTIGACION',\n",
       "       'ESTU_GENERACION-E'],\n",
       "      dtype='object')"
      ]
     },
     "execution_count": 6,
     "metadata": {},
     "output_type": "execute_result"
    }
   ],
   "source": [
    "saber_df_2019_2.columns"
   ]
  },
  {
   "cell_type": "code",
   "execution_count": 7,
   "metadata": {},
   "outputs": [],
   "source": [
    "saber_copa = saber_df_2019_2[(saber_df_2019_2['ESTU_MCPIO_RESIDE'] == 'COPACABANA')]\n",
    "saber_otros = saber_df_2019_2[(saber_df_2019_2['ESTU_MCPIO_RESIDE'] != 'COPACABANA')]"
   ]
  },
  {
   "cell_type": "code",
   "execution_count": 8,
   "metadata": {},
   "outputs": [
    {
     "data": {
      "text/plain": [
       "(866, 82)"
      ]
     },
     "execution_count": 8,
     "metadata": {},
     "output_type": "execute_result"
    }
   ],
   "source": [
    "saber_copa.shape"
   ]
  },
  {
   "cell_type": "code",
   "execution_count": 46,
   "metadata": {},
   "outputs": [
    {
     "name": "stdout",
     "output_type": "stream",
     "text": [
      "----------\n",
      "ESTU_TIPODOCUMENTO\n",
      "['CC' 'TI' 'CE' 'CR' 'NES' 'PEP']\n",
      "\n",
      "num unique values:  6\n",
      "\n",
      "----------\n",
      "ESTU_ETNIA\n",
      "['-' 'Ninguno']\n",
      "\n",
      "num unique values:  2\n",
      "\n",
      "FAMI_TRABAJOLABORMADRE\n",
      "['Trabaja en el hogar, no trabaja o estudia'\n",
      " 'Tiene un trabajo de tipo auxiliar administrativo (por ejemplo, secretario o asistente)'\n",
      " 'Trabaja por cuenta propia (por ejemplo plomero, electricista)'\n",
      " 'Es dueño de un negocio pequeño (tiene pocos empleados o no tiene, por ejemplo tienda, papelería, etc'\n",
      " 'Es vendedor o trabaja en atención al público'\n",
      " 'Trabaja como profesional (por ejemplo médico, abogado, ingeniero)'\n",
      " 'No aplica' 'Es agricultor, pesquero o jornalero' '-'\n",
      " 'Trabaja como personal de limpieza, mantenimiento, seguridad o construcción'\n",
      " 'Es dueño de un negocio grande, tiene un cargo de nivel directivo o gerencial'\n",
      " 'No sabe' 'Es operario de máquinas o conduce vehículos (taxita, chofer)'\n",
      " nan 'Pensionado']\n",
      "\n",
      "num unique values:  15\n",
      "\n",
      "FAMI_EDUCACIONMADRE\n",
      "['Primaria completa' 'Técnica o tecnológica completa'\n",
      " 'Secundaria (Bachillerato) incompleta'\n",
      " 'Secundaria (Bachillerato) completa' 'Técnica o tecnológica incompleta'\n",
      " 'Educación profesional completa' 'Primaria incompleta' 'No sabe'\n",
      " 'Educación profesional incompleta' nan '-' 'Ninguno' 'Postgrado']\n",
      "\n",
      "num unique values:  15\n"
     ]
    }
   ],
   "source": [
    "print(\"----------\")\n",
    "print(\"ESTU_TIPODOCUMENTO\")\n",
    "print(saber_copa.ESTU_TIPODOCUMENTO.unique())\n",
    "print()\n",
    "print(\"num unique values: \", len(saber_copa.ESTU_TIPODOCUMENTO.unique()))\n",
    "print()\n",
    "print(\"----------\")\n",
    "print(\"ESTU_ETNIA\")\n",
    "print(saber_copa.ESTU_ETNIA.unique())\n",
    "print()\n",
    "print(\"num unique values: \", len(saber_copa.ESTU_ETNIA.unique()))\n",
    "print()\n",
    "print(\"FAMI_TRABAJOLABORMADRE\")\n",
    "print(saber_copa.FAMI_TRABAJOLABORMADRE.unique())\n",
    "print()\n",
    "print(\"num unique values: \", len(saber_copa.FAMI_TRABAJOLABORMADRE.unique()))\n",
    "print()\n",
    "print(\"FAMI_EDUCACIONMADRE\")\n",
    "print(saber_copa.FAMI_EDUCACIONMADRE.unique())\n",
    "print()\n",
    "print(\"num unique values: \", len(saber_copa.FAMI_TRABAJOLABORMADRE.unique()))\n"
   ]
  },
  {
   "cell_type": "code",
   "execution_count": 23,
   "metadata": {},
   "outputs": [
    {
     "data": {
      "text/plain": [
       "<matplotlib.axes._subplots.AxesSubplot at 0x1a1b8aea50>"
      ]
     },
     "execution_count": 23,
     "metadata": {},
     "output_type": "execute_result"
    },
    {
     "data": {
      "image/png": "[encoded data removed]",
      "text/plain": [
       "<Figure size 432x288 with 1 Axes>"
      ]
     },
     "metadata": {
      "needs_background": "light"
     },
     "output_type": "display_data"
    }
   ],
   "source": [
    "plt.axvline(saber_otros['PUNT_GLOBAL'].mean())\n",
    "sns.distplot(saber_otros['PUNT_GLOBAL'], bins=50, color='r')"
   ]
  },
  {
   "cell_type": "code",
   "execution_count": 30,
   "metadata": {},
   "outputs": [
    {
     "name": "stdout",
     "output_type": "stream",
     "text": [
      "246.17396111826253\n"
     ]
    }
   ],
   "source": [
    "print(saber_otros['PUNT_GLOBAL'].mean())"
   ]
  },
  {
   "cell_type": "code",
   "execution_count": 31,
   "metadata": {},
   "outputs": [
    {
     "name": "stdout",
     "output_type": "stream",
     "text": [
      "254.06004618937644\n"
     ]
    }
   ],
   "source": [
    "print(saber_copa['PUNT_GLOBAL'].mean())"
   ]
  },
  {
   "cell_type": "code",
   "execution_count": 24,
   "metadata": {},
   "outputs": [
    {
     "data": {
      "text/plain": [
       "<matplotlib.axes._subplots.AxesSubplot at 0x1a1a37e890>"
      ]
     },
     "execution_count": 24,
     "metadata": {},
     "output_type": "execute_result"
    },
    {
     "data": {
      "image/png": "[encoded data removed]",
      "text/plain": [
       "<Figure size 432x288 with 1 Axes>"
      ]
     },
     "metadata": {
      "needs_background": "light"
     },
     "output_type": "display_data"
    }
   ],
   "source": [
    "plt.axvline(saber_copa['PUNT_GLOBAL'].mean(), color='b')\n",
    "sns.distplot(saber_copa['PUNT_GLOBAL'], bins=50, color='b')"
   ]
  },
  {
   "cell_type": "code",
   "execution_count": 29,
   "metadata": {},
   "outputs": [
    {
     "data": {
      "text/plain": [
       "<matplotlib.axes._subplots.AxesSubplot at 0x1a1c4bb810>"
      ]
     },
     "execution_count": 29,
     "metadata": {},
     "output_type": "execute_result"
    },
    {
     "data": {
      "image/png": "[encoded data removed]",
      "text/plain": [
       "<Figure size 432x288 with 1 Axes>"
      ]
     },
     "metadata": {
      "needs_background": "light"
     },
     "output_type": "display_data"
    }
   ],
   "source": [
    "fig, ax = plt.subplots()\n",
    "plt.axvline(saber_otros['PUNT_GLOBAL'].mean(), color='r')\n",
    "sns.distplot(saber_otros['PUNT_GLOBAL'], bins=50, color='r')\n",
    "\n",
    "plt.axvline(saber_copa['PUNT_GLOBAL'].mean(), color='b')\n",
    "sns.distplot(saber_copa['PUNT_GLOBAL'], bins=50, color='b')"
   ]
  },
  {
   "cell_type": "code",
   "execution_count": 10,
   "metadata": {},
   "outputs": [
    {
     "data": {
      "text/plain": [
       "<seaborn.axisgrid.FacetGrid at 0x1a18437110>"
      ]
     },
     "execution_count": 10,
     "metadata": {},
     "output_type": "execute_result"
    },
    {
     "data": {
      "image/png": "[encoded data removed]",
      "text/plain": [
       "<Figure size 655.2x504 with 1 Axes>"
      ]
     },
     "metadata": {
      "needs_background": "light"
     },
     "output_type": "display_data"
    }
   ],
   "source": [
    "sns.catplot(x = 'PUNT_GLOBAL', y = 'FAMI_EDUCACIONMADRE', kind='box', data=saber_copa, height=7, aspect = 1.3)"
   ]
  },
  {
   "cell_type": "code",
   "execution_count": null,
   "metadata": {},
   "outputs": [],
   "source": []
  }
 ],
 "metadata": {
  "kernelspec": {
   "display_name": "Python 3",
   "language": "python",
   "name": "python3"
  },
  "language_info": {
   "codemirror_mode": {
    "name": "ipython",
    "version": 3
   },
   "file_extension": ".py",
   "mimetype": "text/x-python",
   "name": "python",
   "nbconvert_exporter": "python",
   "pygments_lexer": "ipython3",
   "version": "3.7.4"
  }
 },
 "nbformat": 4,
 "nbformat_minor": 2
}
