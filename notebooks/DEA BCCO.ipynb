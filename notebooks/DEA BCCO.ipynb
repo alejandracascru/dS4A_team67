{
 "cells": [
  {
   "cell_type": "markdown",
   "metadata": {},
   "source": [
    "# Data Envelopment Analysis BCC-O\n",
    "The following functions allow to perform BCC-O DEA analysis"
   ]
  },
  {
   "cell_type": "code",
   "execution_count": 1,
   "metadata": {},
   "outputs": [],
   "source": [
    "from scipy.optimize import linprog\n",
    "import pandas as pd\n",
    "import os\n",
    "\n",
    "from sqlalchemy import create_engine, text\n",
    "from decimal import *"
   ]
  },
  {
   "cell_type": "markdown",
   "metadata": {},
   "source": [
    "### Definitions for SQL Connection"
   ]
  },
  {
   "cell_type": "code",
   "execution_count": 2,
   "metadata": {},
   "outputs": [],
   "source": [
    "#maximum number of rows to display\n",
    "pd.options.display.max_rows = 20\n",
    "\n",
    "DB_USERNAME = 'alagos'\n",
    "DB_PASSWORD = 'Team67!'\n",
    "DB_ENDPOINT = 'ds4a-demo-instance.cqjr4hyu9xaq.us-east-1.rds.amazonaws.com'\n",
    "DB_NAME = 'desertion_pj_team67'\n",
    "engine=create_engine(f'postgresql://{DB_USERNAME}:{DB_PASSWORD}@{DB_ENDPOINT}/{DB_NAME}', max_overflow=20)\n",
    "\n",
    "def runQuery(sql):\n",
    "    result = engine.connect().execution_options(isolation_level=\"AUTOCOMMIT\").execute((text(sql)))\n",
    "    return pd.DataFrame(result.fetchall(), columns=result.keys())"
   ]
  },
  {
   "cell_type": "markdown",
   "metadata": {},
   "source": [
    "Some test data"
   ]
  },
  {
   "cell_type": "code",
   "execution_count": 3,
   "metadata": {},
   "outputs": [],
   "source": [
    "df = runQuery(\"\"\"\n",
    "select * from dane.var_dpto;\"\"\")"
   ]
  },
  {
   "cell_type": "code",
   "execution_count": 4,
   "metadata": {},
   "outputs": [],
   "source": [
    "data = df[['codigointernodepto','alu_06', 'alu_07', 'alu_08']]\n",
    "data = data.rename(columns={'codigointernodepto': 'DMU'})\n",
    "data['DMU'] = data['DMU'].apply(str)\n",
    "\n",
    "# Define the input and output variables\n",
    "inp = ['alu_06', 'alu_07']\n",
    "out = ['alu_08']"
   ]
  },
  {
   "cell_type": "markdown",
   "metadata": {},
   "source": [
    "### Definitions for Phase I"
   ]
  },
  {
   "cell_type": "code",
   "execution_count": 5,
   "metadata": {},
   "outputs": [],
   "source": [
    "# Set base model for Phase I\n",
    "def BCCO_Base_PH1(inp, out):\n",
    "    # Initialize components of LP\n",
    "    global obj1, lhs_eq1, rhs_eq1, lhs_ineq1, rhs_ineq1, bnd1\n",
    "    obj1, lhs_eq1, rhs_eq1, lhs_ineq1, rhs_ineq1, bnd1 = ([] for i in range(6))\n",
    "    \n",
    "    # Set linear inequalities\n",
    "    tmp = []\n",
    "    for i in inp:\n",
    "        tmp = data[i].tolist()\n",
    "        tmp.insert(0,0)\n",
    "        lhs_ineq1.append(tmp)\n",
    "    for o in out:\n",
    "        tmp = data[o].tolist()\n",
    "        tmp = [-1 * i for i in tmp]\n",
    "        tmp.insert(0,0)\n",
    "        lhs_ineq1.append(tmp)\n",
    "    \n",
    "    obj1 = [-1]\n",
    "    tmp = [0]\n",
    "    rhs_eq1 = [1]\n",
    "    bnd1 = [(float(\"-inf\"), float(\"inf\"))]\n",
    "    for k in range(len(data[inp[0]])):\n",
    "        obj1.append(0)\n",
    "        tmp.append(1)\n",
    "        bnd1.append((0, float(\"inf\")))\n",
    "    lhs_eq1.append(tmp)\n",
    "\n",
    "# Set model for each DMU for Phase I\n",
    "def BCCO_DMU_PH1(dmu, inp, out):\n",
    "    # Initialize components of LP\n",
    "    global rhs_ineq1\n",
    "    rhs_ineq1 = []\n",
    "    index = 0\n",
    "    \n",
    "    # Data from selected DMU\n",
    "    dmu_data = data[data['DMU'] == dmu].reset_index()\n",
    "    \n",
    "    for i in inp:\n",
    "        lhs_ineq1[index][0] = 0\n",
    "        rhs_ineq1.append(dmu_data[i][0])\n",
    "        index = index +1\n",
    "    \n",
    "    for o in out:\n",
    "        lhs_ineq1[index][0] = dmu_data[o][0]\n",
    "        rhs_ineq1.append(0)\n",
    "        index = index + 1\n",
    "\n",
    "def BCCO_DMU_VAR(inp, out, slack):\n",
    "    varset = []\n",
    "    nInp = len(inp)\n",
    "    for i in range(len(slack)):\n",
    "        if slack[i] > 0.01:\n",
    "            if i < len(inp):\n",
    "                varset.append(inp[i])\n",
    "            else:\n",
    "                varset.append(out[i-nInp])\n",
    "    return varset"
   ]
  },
  {
   "cell_type": "markdown",
   "metadata": {},
   "source": [
    "### Definitions for Phase II"
   ]
  },
  {
   "cell_type": "code",
   "execution_count": 6,
   "metadata": {},
   "outputs": [],
   "source": [
    "# Set base model for Phase II\n",
    "def BCCO_Base_PH2(inp, out):\n",
    "    # Initialize components of LP\n",
    "    global obj2, lhs_eq2, rhs_eq2, bnd2\n",
    "    obj2, lhs_eq2, rhs_eq2, bnd2 = ([] for i in range(4))\n",
    "    \n",
    "    # Set linear inequalities\n",
    "    nSlk = len(inp)+len(out)\n",
    "    tmp = []\n",
    "    index = 0\n",
    "    \n",
    "    for i in inp:\n",
    "        tmp = data[i].tolist()\n",
    "        for j in range(nSlk):\n",
    "            tmp.insert(0,0)\n",
    "        tmp[index] = 1\n",
    "        lhs_eq2.append(tmp)\n",
    "        index = index + 1\n",
    "\n",
    "    for o in out:\n",
    "        tmp = data[o].tolist()\n",
    "        #tmp = [-1 * i for i in tmp]\n",
    "        for j in range(nSlk):\n",
    "            tmp.insert(0,0)\n",
    "        tmp[index] = -1\n",
    "        lhs_eq2.append(tmp)\n",
    "        index = index + 1\n",
    "    \n",
    "    tmp = []\n",
    "    for j in range(nSlk):\n",
    "        obj2.append(1)\n",
    "        bnd2.append((0, float(\"inf\")))\n",
    "        tmp.append(0)\n",
    "    \n",
    "    for k in range(len(data[inp[0]])):\n",
    "        obj2.append(0)\n",
    "        bnd2.append((0, float(\"inf\")))\n",
    "        tmp.append(1)\n",
    "    lhs_eq2.append(tmp)\n",
    "        \n",
    "# Set model for each DMU for Phase II\n",
    "def BCCO_DMU_PH2(dmu, theta, inp, out):\n",
    "    # Initialize components of LP\n",
    "    global rhs_eq2\n",
    "    rhs_eq2 = []\n",
    "    \n",
    "    # Data from selected DMU\n",
    "    dmu_data = data[data['DMU'] == dmu].reset_index()\n",
    "    \n",
    "    for i in inp:\n",
    "        rhs_eq2.append(dmu_data[i][0])\n",
    "    \n",
    "    for o in out:\n",
    "        rhs_eq2.append(theta*dmu_data[o][0])\n",
    "    \n",
    "    rhs_eq2.append(1)\n",
    "\n",
    "# Determine which DMUs comprise the reference set.\n",
    "def BCCO_DMU_REFSET(inp, out, ph2_x):\n",
    "    dmu_names = data['DMU'].reset_index()\n",
    "    nSlk = len(inp)+len(out)\n",
    "    res = ph2_x[nSlk:]\n",
    "    refset = []\n",
    "    for i in range(len(res)):\n",
    "        if res[i] > 0:\n",
    "            refset.append(dmu_names.iloc[i][1])\n",
    "    return refset"
   ]
  },
  {
   "cell_type": "markdown",
   "metadata": {},
   "source": [
    "Using the DEA functions"
   ]
  },
  {
   "cell_type": "code",
   "execution_count": 7,
   "metadata": {},
   "outputs": [],
   "source": [
    "# Load the models for Phase I and Phase II\n",
    "BCCO_Base_PH1(inp, out)\n",
    "BCCO_Base_PH2(inp, out)"
   ]
  },
  {
   "cell_type": "code",
   "execution_count": 8,
   "metadata": {},
   "outputs": [
    {
     "name": "stdout",
     "output_type": "stream",
     "text": [
      "99: 0.7965991795622868 --> ['97', '44', '27', '5'] --> []\n",
      "54: 0.07738030932245504 --> ['44', '19', '5'] --> ['alu_07']\n",
      "88: 0.2393162393162393 --> ['97'] --> ['alu_06']\n",
      "68: 0.07331189710610939 --> ['19', '5'] --> ['alu_06', 'alu_07']\n",
      "41: 0.15218819705012737 --> ['44', '19', '5'] --> ['alu_07']\n",
      "70: 0.20147694512618 --> ['44', '19', '5'] --> ['alu_07']\n",
      "52: 0.8951768488745981 --> ['19', '5'] --> ['alu_06', 'alu_07']\n",
      "63: 0.06209704859991417 --> ['44', '19', '5'] --> ['alu_07']\n",
      "15: 0.0443729903536978 --> ['19', '5'] --> ['alu_06', 'alu_07']\n",
      "86: 0.3716152304609218 --> ['44', '27'] --> ['alu_07']\n",
      "50: 0.22815397799124637 --> ['44', '19'] --> ['alu_07']\n",
      "97: 1.0 --> ['97'] --> []\n",
      "47: 0.16411651428287657 --> ['44', '19', '5'] --> ['alu_07']\n",
      "66: 0.2710034407174856 --> ['44', '19'] --> ['alu_07']\n",
      "91: 0.5819338610638455 --> ['97', '44'] --> ['alu_06']\n",
      "81: 0.2075969576690247 --> ['97', '27', '95'] --> ['alu_07']\n",
      "17: 0.18804822075850117 --> ['44', '19', '5'] --> ['alu_07']\n",
      "20: 0.3640344446294093 --> ['44', '19'] --> ['alu_07']\n",
      "13: 0.11135425538884888 --> ['44', '19', '5'] --> ['alu_07']\n",
      "76: 0.7035369774919615 --> ['19', '5'] --> ['alu_06', 'alu_07']\n",
      "73: 0.2217711520824226 --> ['44', '19'] --> ['alu_07']\n",
      "8: 0.11198336865639183 --> ['97', '44', '19'] --> ['alu_06']\n",
      "11: 0.3035369774919528 --> ['19'] --> ['alu_06', 'alu_07']\n",
      "44: 1.0000000000000002 --> ['88', '15', '81', '44'] --> []\n",
      "85: 0.06378661650094061 --> ['44', '27', '5'] --> ['alu_07']\n",
      "27: 1.0000000000000002 --> ['41', '81', '27', '25'] --> []\n",
      "95: 0.33046638400969114 --> ['97', '27', '95'] --> ['alu_07']\n",
      "19: 1.0 --> ['19'] --> []\n",
      "25: 0.1414790996784568 --> ['19', '5'] --> ['alu_06', 'alu_07']\n",
      "18: 0.12473065966259218 --> ['97', '44', '27', '5'] --> []\n",
      "94: 0.5231144612435187 --> ['97', '44'] --> ['alu_06']\n",
      "5: 0.7479099678456587 --> ['19'] --> ['alu_06', 'alu_07']\n",
      "23: 0.31046108896191454 --> ['44', '19'] --> ['alu_07']\n"
     ]
    }
   ],
   "source": [
    "# Solves for all DMUs\n",
    "for dmu in data['DMU'].tolist():\n",
    "    BCCO_DMU_PH1(dmu, inp, out)\n",
    "    ph1_dual = linprog(c=obj1, A_ub=lhs_ineq1, b_ub=rhs_ineq1, A_eq=lhs_eq1, b_eq=rhs_eq1, bounds=bnd1, \n",
    "                       method=\"simplex\")\n",
    "    print(dmu + ': ' + str(-1/ph1_dual.fun), end = ' --> ')\n",
    "    BCCO_DMU_PH2(dmu, -1*Decimal(ph1_dual.fun), inp, out)\n",
    "    ph2 = linprog(c=obj2, A_eq=lhs_eq2, b_eq=rhs_eq2, bounds=bnd2,method=\"simplex\")\n",
    "    print(BCCO_DMU_REFSET(inp,out,ph2.x), end = ' --> ')\n",
    "    print(BCCO_DMU_VAR(inp, out, ph1_dual.slack))"
   ]
  },
  {
   "cell_type": "code",
   "execution_count": null,
   "metadata": {},
   "outputs": [],
   "source": []
  },
  {
   "cell_type": "code",
   "execution_count": null,
   "metadata": {},
   "outputs": [],
   "source": []
  },
  {
   "cell_type": "code",
   "execution_count": null,
   "metadata": {},
   "outputs": [],
   "source": []
  },
  {
   "cell_type": "code",
   "execution_count": null,
   "metadata": {},
   "outputs": [],
   "source": []
  },
  {
   "cell_type": "code",
   "execution_count": null,
   "metadata": {},
   "outputs": [],
   "source": []
  }
 ],
 "metadata": {
  "kernelspec": {
   "display_name": "Python 3",
   "language": "python",
   "name": "python3"
  },
  "language_info": {
   "codemirror_mode": {
    "name": "ipython",
    "version": 3
   },
   "file_extension": ".py",
   "mimetype": "text/x-python",
   "name": "python",
   "nbconvert_exporter": "python",
   "pygments_lexer": "ipython3",
   "version": "3.7.6"
  }
 },
 "nbformat": 4,
 "nbformat_minor": 4
}
