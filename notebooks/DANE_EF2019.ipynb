{
 "cells": [
  {
   "cell_type": "markdown",
   "metadata": {},
   "source": [
    "# DANE Educación Formal 2019\n",
    "Censo de sedes educativas que ofrecen educación básica formal en preescolar, básica primaria, básica secundaria y media. Se incluye tambien ciclos léctivos integrados CLEI (eduacción para adultos y jovenes en extra edad) y modelos educativos flexibles."
   ]
  },
  {
   "cell_type": "markdown",
   "metadata": {},
   "source": [
    "## Análisis Exploratorio de Datos\n",
    "El objetivo de esta sección es generar un entendimiento de los datos obtenidos y la manera en que serán utilizados en el `Estudio de Deserción Escolar`.\n",
    "### Unidad de Análisis\n",
    "Sedes educativas de educación formal, legalmente constituidas, del sector oficial y del sector no oficial, que ofrecen los niveles de preescolar, básica primaria, básica secundaria y media localizados en el área urbana y en el área rural dentro del territorio nacional. \\\n",
    "El desarrollo de este cuaderno debe lograr una agregación de los datos a nivel de municipio y departamento."
   ]
  },
  {
   "cell_type": "code",
   "execution_count": 45,
   "metadata": {
    "scrolled": true
   },
   "outputs": [],
   "source": [
    "import pandas as pd\n",
    "import os\n",
    "\n",
    "from sqlalchemy import create_engine, text\n",
    "\n",
    "#maximum number of rows to display\n",
    "pd.options.display.max_rows = 20\n",
    "\n",
    "DB_USERNAME = 'postgres'#'alagos'\n",
    "DB_PASSWORD = 'postgres' #'Team67!'\n",
    "DB_ENDPOINT = 'localhost' #'ds4a-demo-instance.cqjr4hyu9xaq.us-east-1.rds.amazonaws.com'\n",
    "DB_NAME = 'postgres' #'desertion_pj_team67'\n",
    "engine=create_engine(f'postgresql://{DB_USERNAME}:{DB_PASSWORD}@{DB_ENDPOINT}/{DB_NAME}', max_overflow=20)\n",
    "\n",
    "def runQuery(sql):\n",
    "    result = engine.connect().execution_options(isolation_level=\"AUTOCOMMIT\").execute((text(sql)))\n",
    "    return pd.DataFrame(result.fetchall(), columns=result.keys())"
   ]
  },
  {
   "cell_type": "code",
   "execution_count": 49,
   "metadata": {},
   "outputs": [],
   "source": [
    "df = runQuery(\"\"\"\n",
    "select * from sede_caratula;\"\"\")"
   ]
  },
  {
   "cell_type": "code",
   "execution_count": 50,
   "metadata": {},
   "outputs": [
    {
     "name": "stdout",
     "output_type": "stream",
     "text": [
      "<class 'pandas.core.frame.DataFrame'>\n",
      "RangeIndex: 59052 entries, 0 to 59051\n",
      "Data columns (total 69 columns):\n",
      " #   Column                      Non-Null Count  Dtype \n",
      "---  ------                      --------------  ----- \n",
      " 0   index                       59052 non-null  int64 \n",
      " 1   SEDE_CODIGO                 59052 non-null  int64 \n",
      " 2   PERIODO_ID                  59052 non-null  int64 \n",
      " 3   PERIODO_ANIO                59052 non-null  int64 \n",
      " 4   ESTADO_ID                   59052 non-null  int64 \n",
      " 5   ESTADO_NOMBRE               59052 non-null  object\n",
      " 6   NOVEDAD_ID                  59052 non-null  int64 \n",
      " 7   NOVEDAD_CODIGO              59052 non-null  int64 \n",
      " 8   NOVEDAD_NOMBRE              59052 non-null  object\n",
      " 9   SEDE_NOVEDAD_OBSERVACION    59052 non-null  object\n",
      " 10  SEDE_NOMBRE                 59052 non-null  object\n",
      " 11  SEDE_NIT                    59052 non-null  object\n",
      " 12  SEDE_DIRECCION              59052 non-null  object\n",
      " 13  SEDE_TELEFONO               59052 non-null  object\n",
      " 14  SEDE_FAX                    59052 non-null  object\n",
      " 15  SEDE_EMAIL                  59052 non-null  object\n",
      " 16  SEDE_SITIOWEB               59052 non-null  object\n",
      " 17  ID_CLASIFICACION_MUNICIPIO  59052 non-null  int64 \n",
      " 18  CODIGOINTERNODEPTO          59052 non-null  int64 \n",
      " 19  DEPTO                       59052 non-null  object\n",
      " 20  CODIGOINTERNOMUNI           59052 non-null  int64 \n",
      " 21  MUNI                        59052 non-null  object\n",
      " 22  LOCALIDAD_ID                59052 non-null  object\n",
      " 23  CODLOCALIDAD                59052 non-null  object\n",
      " 24  LOCALIDAD                   59052 non-null  object\n",
      " 25  INSPECCION_ID               59052 non-null  object\n",
      " 26  CODINSPECCION               59052 non-null  object\n",
      " 27  INSPECCION                  59052 non-null  object\n",
      " 28  RESGUARDO_ID                59052 non-null  object\n",
      " 29  CODRESGUARDO                59052 non-null  object\n",
      " 30  RESGUARDO                   59052 non-null  object\n",
      " 31  AREA_ID                     59052 non-null  int64 \n",
      " 32  AREA_CODIGO                 59052 non-null  int64 \n",
      " 33  AREA_NOMBRE                 59052 non-null  object\n",
      " 34  SECTOR_ID                   59052 non-null  int64 \n",
      " 35  SECTOR_CODIGO               59052 non-null  int64 \n",
      " 36  SECTOR_NOMBRE               59052 non-null  object\n",
      " 37  NATURALEZA_ID               59052 non-null  object\n",
      " 38  CODNATURALEZA               59052 non-null  object\n",
      " 39  NATURALEZA                  59052 non-null  object\n",
      " 40  SEDE_ACTO_NUMERO            59052 non-null  object\n",
      " 41  SEDE_ACTO_FECHA             59052 non-null  object\n",
      " 42  SEDE_INICIO_FECHA           59052 non-null  object\n",
      " 43  REGIMEN_ID                  59052 non-null  object\n",
      " 44  CODREGIMEN                  59052 non-null  object\n",
      " 45  REGIMEN                     59052 non-null  object\n",
      " 46  SECRETARIA_ID               59052 non-null  int64 \n",
      " 47  SECRETARIA_CODIGO           59052 non-null  int64 \n",
      " 48  SECRETARIA_NOMBRE           59052 non-null  object\n",
      " 49  SUBSEDE_ID                  59052 non-null  int64 \n",
      " 50  SUBSEDE_CODIGO              59052 non-null  int64 \n",
      " 51  SUBSEDE_NOMBRE              59052 non-null  object\n",
      " 52  TERRITORIAL_ID              59052 non-null  int64 \n",
      " 53  TERRITORIAL_CODIGO          59052 non-null  int64 \n",
      " 54  TERRITORIAL_NOMBRE          59052 non-null  object\n",
      " 55  SEDE_TIPO_PROCEDENCIA       59052 non-null  int64 \n",
      " 56  TIPOPROCEDENCIA             59052 non-null  object\n",
      " 57  SEDE_BILINGUE               59052 non-null  object\n",
      " 58  ES_BILINGUE                 59052 non-null  object\n",
      " 59  TIPOBILINGUE_ID             59052 non-null  object\n",
      " 60  TIPOBIL_NOMBRE              59052 non-null  object\n",
      " 61  SEDE_SEIP                   59052 non-null  object\n",
      " 62  ES_SEIP                     59052 non-null  object\n",
      " 63  COMUNIDADNEGRA_ID           59052 non-null  object\n",
      " 64  COMNEGR_NOMBRE              59052 non-null  object\n",
      " 65  SEDE_SISTEMA_ETNOEDUCATIVO  59052 non-null  object\n",
      " 66  ES_SISTEMA_ETNOEDUCATIVO    59052 non-null  object\n",
      " 67  SEDE_EDUCACION_ESPECIAL     59052 non-null  object\n",
      " 68  ES_EDUCACION_ESPECIAL       59052 non-null  object\n",
      "dtypes: int64(21), object(48)\n",
      "memory usage: 31.1+ MB\n"
     ]
    }
   ],
   "source": [
    "df.info()"
   ]
  },
  {
   "cell_type": "code",
   "execution_count": null,
   "metadata": {},
   "outputs": [],
   "source": []
  }
 ],
 "metadata": {
  "kernelspec": {
   "display_name": "Python 3",
   "language": "python",
   "name": "python3"
  },
  "language_info": {
   "codemirror_mode": {
    "name": "ipython",
    "version": 3
   },
   "file_extension": ".py",
   "mimetype": "text/x-python",
   "name": "python",
   "nbconvert_exporter": "python",
   "pygments_lexer": "ipython3",
   "version": "3.7.6"
  }
 },
 "nbformat": 4,
 "nbformat_minor": 4
}
